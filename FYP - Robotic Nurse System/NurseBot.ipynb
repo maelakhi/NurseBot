{
 "cells": [
  {
   "cell_type": "code",
   "execution_count": 1,
   "id": "e25c0448",
   "metadata": {
    "scrolled": true
   },
   "outputs": [
    {
     "name": "stderr",
     "output_type": "stream",
     "text": [
      "[nltk_data] Downloading package punkt to\n",
      "[nltk_data]     C:\\Users\\Agis\\AppData\\Roaming\\nltk_data...\n",
      "[nltk_data]   Package punkt is already up-to-date!\n",
      "[nltk_data] Downloading package wordnet to\n",
      "[nltk_data]     C:\\Users\\Agis\\AppData\\Roaming\\nltk_data...\n",
      "[nltk_data]   Package wordnet is already up-to-date!\n",
      "[nltk_data] Downloading package omw-1.4 to\n",
      "[nltk_data]     C:\\Users\\Agis\\AppData\\Roaming\\nltk_data...\n",
      "[nltk_data]   Package omw-1.4 is already up-to-date!\n"
     ]
    }
   ],
   "source": [
    "#Import necessary libraries\n",
    "import nltk\n",
    "nltk.download('punkt')\n",
    "nltk.download('wordnet')\n",
    "nltk.download('omw-1.4')\n",
    "from nltk.stem import WordNetLemmatizer\n",
    "lemmatizer = WordNetLemmatizer()\n",
    "import numpy as np\n",
    "import random"
   ]
  },
  {
   "cell_type": "code",
   "execution_count": 2,
   "id": "f43a0b7c",
   "metadata": {},
   "outputs": [],
   "source": [
    "#Load the dataset and document pickle files (for response processing in chatbot framework)\n",
    "from keras.models import load_model\n",
    "model = load_model('NurseBot_model')\n",
    "import json\n",
    "import pickle\n",
    "intents = json.loads(open('intents.json', errors = \"ignore\").read())\n",
    "words = pickle.load(open('words.pkl','rb'))\n",
    "classes = pickle.load(open('classes.pkl','rb'))"
   ]
  },
  {
   "cell_type": "code",
   "execution_count": 3,
   "id": "f0b4e985",
   "metadata": {},
   "outputs": [],
   "source": [
    "#Create Chatbot Framework in Response Processing\n",
    "def clean_up_msg(message):\n",
    "    # ignore punctuation from words\n",
    "    ignore_words = ['?',',','!','.']\n",
    "    tokenized_words = nltk.word_tokenize(message)\n",
    "    clean_words = [lemmatizer.lemmatize(w.lower()) for w in tokenized_words if w not in ignore_words]\n",
    "    return clean_words\n",
    "\n",
    "def bow(message, words):\n",
    "    clean_words = clean_up_msg(message)\n",
    "    bag = [0] * len(words)\n",
    "    for clean_word in clean_words:\n",
    "        for idx, word in enumerate(words):\n",
    "            if word == clean_word:\n",
    "                bag[idx] = 1\n",
    "    return np.array(bag)\n",
    "\n",
    "def predict_class(message):\n",
    "    bag_of_words = bow(message, words)\n",
    "    res = model.predict(np.array([bag_of_words]))[0]\n",
    "    ERROR_THRESHOLD = 0.25\n",
    "    results = [[idx, result] for idx, result in enumerate(res) if result > ERROR_THRESHOLD]\n",
    "    # Sort by Probability\n",
    "    results.sort(key= lambda x: x[1], reverse= True)\n",
    "    intent_with_probability = [{'intent': classes[res[0]], 'probabilty' : str(res[1])} for res in results]\n",
    "    \n",
    "    return intent_with_probability\n",
    "\n",
    "def getResponse(ints_with_probability):\n",
    "    if ints_with_probability and ints_with_probability[0]['probabilty']:\n",
    "        tag = ints_with_probability[0]['intent']\n",
    "        list_of_intents = intents['intents']\n",
    "\n",
    "        for i in list_of_intents:\n",
    "            if i['tag'] == tag:\n",
    "                result = random.choice(i['responses'])\n",
    "                break\n",
    "        return result\n",
    "\n",
    "def chatbot_response(msg):\n",
    "    ints_with_probability = predict_class(msg)\n",
    "    res = getResponse(ints_with_probability)\n",
    "    return res"
   ]
  },
  {
   "cell_type": "code",
   "execution_count": null,
   "id": "8f736ef3",
   "metadata": {},
   "outputs": [],
   "source": [
    "#Creating GUI with tkinter\n",
    "import tkinter\n",
    "from tkinter import *\n",
    "\n",
    "\n",
    "def send():\n",
    "    msg = EntryBox.get(\"1.0\",'end-1c').strip()\n",
    "    EntryBox.delete(\"0.0\",END)\n",
    "\n",
    "    if msg != '':\n",
    "        ChatLog.config(state=NORMAL)\n",
    "        ChatLog.insert(END, \"You: \" + msg + '\\n\\n')\n",
    "        ChatLog.config(foreground=\"white\", font=(\"Verdana\", 10 ))\n",
    "\n",
    "        res = chatbot_response(msg)\n",
    "        ChatLog.insert(END, \"NurseBot: \" + res + '\\n\\n')\n",
    "\n",
    "        ChatLog.config(state=DISABLED)\n",
    "        ChatLog.yview(END)\n",
    "\n",
    "\n",
    "base = Tk()\n",
    "base.title(\"NurseBot\")\n",
    "base.geometry(\"400x500\")\n",
    "base.resizable(width=FALSE, height=FALSE)\n",
    "\n",
    "#Create Chat window\n",
    "ChatLog = Text(base, bd=0, bg=\"#17202A\", height=\"8\", width=\"50\", font=\"Arial\",)\n",
    "ChatLog.config(state=DISABLED)\n",
    "\n",
    "#Bind scrollbar to Chat window\n",
    "scrollbar = Scrollbar(base, command=ChatLog.yview, cursor=\"heart\")\n",
    "ChatLog['yscrollcommand'] = scrollbar.set\n",
    "\n",
    "#Create Button to send message\n",
    "SendButton = Button(base, font=(\"Verdana\",10,'bold'), text=\"Send\", width=\"12\", height=5,\n",
    "                    bd=0, bg=\"#32de97\", activebackground=\"#3c9d9b\",fg='#ffffff',\n",
    "                    command= send )\n",
    "\n",
    "#Create the box to enter message\n",
    "EntryBox = Text(base, bd=0, bg=\"#2C3E50\", fg='#ffffff',width=\"29\", height=\"5\", font=\"Arial\")\n",
    "#EntryBox.bind(\"<Return>\", send)\n",
    "\n",
    "#Place all components on the screen\n",
    "scrollbar.place(x=376,y=6, height=386)\n",
    "ChatLog.place(x=6,y=6, height=386, width=370)\n",
    "EntryBox.place(x=128, y=401, height=90, width=265)\n",
    "SendButton.place(x=6, y=401, height=90)\n",
    "\n",
    "base.mainloop()\n"
   ]
  },
  {
   "cell_type": "code",
   "execution_count": null,
   "id": "7edf20f6",
   "metadata": {},
   "outputs": [],
   "source": []
  }
 ],
 "metadata": {
  "kernelspec": {
   "display_name": "Python 3",
   "language": "python",
   "name": "python3"
  },
  "language_info": {
   "codemirror_mode": {
    "name": "ipython",
    "version": 3
   },
   "file_extension": ".py",
   "mimetype": "text/x-python",
   "name": "python",
   "nbconvert_exporter": "python",
   "pygments_lexer": "ipython3",
   "version": "3.8.8"
  }
 },
 "nbformat": 4,
 "nbformat_minor": 5
}
